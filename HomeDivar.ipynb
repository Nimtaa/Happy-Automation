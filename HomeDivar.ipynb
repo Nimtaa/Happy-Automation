{
 "cells": [
  {
   "cell_type": "code",
   "execution_count": 109,
   "metadata": {},
   "outputs": [],
   "source": [
    "from bs4 import BeautifulSoup\n",
    "import requests\n",
    "address = \"https://divar.ir/v/%D9%81%D8%B1%D9%88%D8%B4-%D8%A2%D9%BE%D8%A7%D8%AA%D9%85%D8%A7%D9%86-%D8%A7%D9%85%DB%8C%D8%B1%D8%A2%D8%A8%D8%A7%D8%AF--101--%D9%85%D8%AA%D8%B1_%D8%A2%D9%BE%D8%A7%D8%B1%D8%AA%D9%85%D8%A7%D9%86_%D8%AA%D9%87%D8%B1%D8%A7%D9%86_%D8%A7%D9%85%DB%8C%D8%B1%D8%A2%D8%A8%D8%A7%D8%AF_%D8%AF%DB%8C%D9%88%D8%A7%D8%B1/ugTSNE4cM\";\n",
    "page = requests.get(address)\n",
    "soup = BeautifulSoup(page.content)\n"
   ]
  },
  {
   "cell_type": "code",
   "execution_count": 108,
   "metadata": {
    "collapsed": true
   },
   "outputs": [
    {
     "name": "stdout",
     "output_type": "stream",
     "text": [
      "[<span class=\"publishTime\">۴ ساعت پیش</span>]\n",
      "متراژ۱۰۱\n"
     ]
    }
   ],
   "source": [
    "publish_time = soup.select(\".publishTime\")\n",
    "s = soup.select(\".content .item\")[8].get_text()\n",
    "print(publish_time)\n",
    "print(s)\n"
   ]
  },
  {
   "cell_type": "code",
   "execution_count": 121,
   "metadata": {
    "collapsed": true
   },
   "outputs": [
    {
     "data": {
      "text/plain": [
       "<div class=\"ui card post-card\"><a class=\"post-card-link\" href=\"/v/98-%D9%85%D8%AA%D8%B1-%DA%A9%D8%B1%D8%AF%D8%B3%D8%AA%D8%A7%D9%86-%D8%A7%D8%B2%D8%A7%D8%AF%DA%AF%D8%A7%D9%86_%D8%A2%D9%BE%D8%A7%D8%B1%D8%AA%D9%85%D8%A7%D9%86_%D8%AA%D9%87%D8%B1%D8%A7%D9%86_%D8%A7%D9%85%DB%8C%D8%B1%D8%A2%D8%A8%D8%A7%D8%AF_%D8%AF%DB%8C%D9%88%D8%A7%D8%B1/4eYLr4cC6\" target=\"\"><div class=\"ui internally celled grid\"><div class=\"two column row\"><div class=\"column content\"><h2>98 متر کردستان ازادگان</h2><div class=\"description\"><div><label>امیرآباد</label></div><div class=\"meta\">۴ ساعت پیش</div></div><span class=\"chat\">چت</span></div><div class=\"column image\"><img alt=\"98 متر کردستان ازادگان|آپارتمان|تهران_امیرآباد|دیوار\" class=\"ui image\" src=\"https://s100.divarcdn.com/static/thumbnails/1545090650/4eYLr4cC6.jpg\" title=\"98 متر کردستان ازادگان|آپارتمان|تهران_امیرآباد|دیوار\"/></div></div><div class=\"one column row\"><div class=\"column price\"><span><label class=\"item\">قیمت کل<!-- -->:<!-- --> <!-- -->توافقی</label></span></div></div></div></a></div>"
      ]
     },
     "execution_count": 121,
     "metadata": {},
     "output_type": "execute_result"
    }
   ],
   "source": [
    "amirabad = \"https://divar.ir/tehran/%D8%AA%D9%87%D8%B1%D8%A7%D9%86/%D8%A7%D9%85%DB%8C%D8%B1%D8%A2%D8%A8%D8%A7%D8%AF/browse/%D9%81%D8%B1%D9%88%D8%B4-%D8%A2%D9%BE%D8%A7%D8%B1%D8%AA%D9%85%D8%A7%D9%86/%D9%81%D8%B1%D9%88%D8%B4-%D9%85%D8%B3%DA%A9%D9%88%D9%86%DB%8C-%D8%A2%D9%BE%D8%A7%D8%B1%D8%AA%D9%85%D8%A7%D9%86-%D8%AE%D8%A7%D9%86%D9%87-%D8%B2%D9%85%DB%8C%D9%86/%D8%A7%D9%85%D9%84%D8%A7%DA%A9-%D9%85%D8%B3%DA%A9%D9%86/?place=6,91&v12=1,131072,134217728&v01=1,60,110\";\n",
    "amir_page = requests.get(amirabad)\n",
    "soup = BeautifulSoup(amir_page.content)\n",
    "\n",
    "home_object = \".column.content\"\n",
    "cards = soup.select(\".post-card\")"
   ]
  },
  {
   "cell_type": "code",
   "execution_count": 130,
   "metadata": {},
   "outputs": [],
   "source": [
    "# print(cards[0])\n",
    "# cards[0].find('a').get('href')\n",
    "a = \"https://divar.ir\" +cards[0].find('a').get('href')\n",
    "test = requests.get(a)"
   ]
  },
  {
   "cell_type": "code",
   "execution_count": 134,
   "metadata": {},
   "outputs": [
    {
     "data": {
      "text/plain": [
       "'https://divar.ir/v/98-%D9%85%D8%AA%D8%B1-%DA%A9%D8%B1%D8%AF%D8%B3%D8%AA%D8%A7%D9%86-%D8%A7%D8%B2%D8%A7%D8%AF%DA%AF%D8%A7%D9%86_%D8%A2%D9%BE%D8%A7%D8%B1%D8%AA%D9%85%D8%A7%D9%86_%D8%AA%D9%87%D8%B1%D8%A7%D9%86_%D8%A7%D9%85%DB%8C%D8%B1%D8%A2%D8%A8%D8%A7%D8%AF_%D8%AF%DB%8C%D9%88%D8%A7%D8%B1/4eYLr4cC6'"
      ]
     },
     "execution_count": 134,
     "metadata": {},
     "output_type": "execute_result"
    }
   ],
   "source": [
    "a"
   ]
  },
  {
   "cell_type": "code",
   "execution_count": null,
   "metadata": {},
   "outputs": [],
   "source": []
  }
 ],
 "metadata": {
  "kernelspec": {
   "display_name": "Python 3",
   "language": "python",
   "name": "python3"
  },
  "language_info": {
   "codemirror_mode": {
    "name": "ipython",
    "version": 3
   },
   "file_extension": ".py",
   "mimetype": "text/x-python",
   "name": "python",
   "nbconvert_exporter": "python",
   "pygments_lexer": "ipython3",
   "version": "3.7.0"
  }
 },
 "nbformat": 4,
 "nbformat_minor": 2
}
